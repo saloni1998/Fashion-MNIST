{
  "cells": [
    {
      "metadata": {
        "_cell_guid": "99974020-2f99-4f50-a201-e7311b792179",
        "_uuid": "0b3ee47b5336bf4df3ced83cc780115295d16968",
        "trusted": true,
        "scrolled": true
      },
      "cell_type": "code",
      "source": "# This Python 3 environment comes with many helpful analytics libraries installed\n# It is defined by the kaggle/python docker image: https://github.com/kaggle/docker-python\n# For example, here's several helpful packages to load in \n\nimport numpy as np # linear algebra\nimport pandas as pd # data processing, CSV file I/O (e.g. pd.read_csv)\n\n# Input data files are available in the \"../input/\" directory.\n# For example, running this (by clicking run or pressing Shift+Enter) will list the files in the input directory\n\n\nfrom subprocess import check_output\nprint(check_output([\"ls\", \"../input\"]).decode(\"utf8\"))\n\n# Any results you write to the current directory are saved as output.",
      "execution_count": 1,
      "outputs": [
        {
          "output_type": "stream",
          "text": "fashion-mnist_test.csv\nfashion-mnist_train.csv\nt10k-images-idx3-ubyte\nt10k-labels-idx1-ubyte\ntrain-images-idx3-ubyte\ntrain-labels-idx1-ubyte\n\n",
          "name": "stdout"
        }
      ]
    },
    {
      "metadata": {
        "trusted": true,
        "collapsed": true,
        "_uuid": "1e730fd6e73966e540fec22db13388afa92a52da"
      },
      "cell_type": "code",
      "source": "train=pd.read_csv(\"../input/fashion-mnist_train.csv\")\ntest=pd.read_csv(\"../input/fashion-mnist_test.csv\")",
      "execution_count": 2,
      "outputs": []
    },
    {
      "metadata": {
        "trusted": true,
        "_uuid": "a3c20333cc8caaf0ac5cbf60296ce37b267737f9"
      },
      "cell_type": "code",
      "source": "train.shape",
      "execution_count": 3,
      "outputs": [
        {
          "output_type": "execute_result",
          "execution_count": 3,
          "data": {
            "text/plain": "(60000, 785)"
          },
          "metadata": {}
        }
      ]
    },
    {
      "metadata": {
        "trusted": true,
        "scrolled": true,
        "_uuid": "f051cd1f60ce2fc3fac66dbf02d4913ebfada119"
      },
      "cell_type": "code",
      "source": "train.head()",
      "execution_count": 4,
      "outputs": [
        {
          "output_type": "execute_result",
          "execution_count": 4,
          "data": {
            "text/plain": "   label  pixel1  pixel2  pixel3  pixel4  pixel5  pixel6  pixel7  pixel8  \\\n0      2       0       0       0       0       0       0       0       0   \n1      9       0       0       0       0       0       0       0       0   \n2      6       0       0       0       0       0       0       0       5   \n3      0       0       0       0       1       2       0       0       0   \n4      3       0       0       0       0       0       0       0       0   \n\n   pixel9    ...     pixel775  pixel776  pixel777  pixel778  pixel779  \\\n0       0    ...            0         0         0         0         0   \n1       0    ...            0         0         0         0         0   \n2       0    ...            0         0         0        30        43   \n3       0    ...            3         0         0         0         0   \n4       0    ...            0         0         0         0         0   \n\n   pixel780  pixel781  pixel782  pixel783  pixel784  \n0         0         0         0         0         0  \n1         0         0         0         0         0  \n2         0         0         0         0         0  \n3         1         0         0         0         0  \n4         0         0         0         0         0  \n\n[5 rows x 785 columns]",
            "text/html": "<div>\n<style>\n    .dataframe thead tr:only-child th {\n        text-align: right;\n    }\n\n    .dataframe thead th {\n        text-align: left;\n    }\n\n    .dataframe tbody tr th {\n        vertical-align: top;\n    }\n</style>\n<table border=\"1\" class=\"dataframe\">\n  <thead>\n    <tr style=\"text-align: right;\">\n      <th></th>\n      <th>label</th>\n      <th>pixel1</th>\n      <th>pixel2</th>\n      <th>pixel3</th>\n      <th>pixel4</th>\n      <th>pixel5</th>\n      <th>pixel6</th>\n      <th>pixel7</th>\n      <th>pixel8</th>\n      <th>pixel9</th>\n      <th>...</th>\n      <th>pixel775</th>\n      <th>pixel776</th>\n      <th>pixel777</th>\n      <th>pixel778</th>\n      <th>pixel779</th>\n      <th>pixel780</th>\n      <th>pixel781</th>\n      <th>pixel782</th>\n      <th>pixel783</th>\n      <th>pixel784</th>\n    </tr>\n  </thead>\n  <tbody>\n    <tr>\n      <th>0</th>\n      <td>2</td>\n      <td>0</td>\n      <td>0</td>\n      <td>0</td>\n      <td>0</td>\n      <td>0</td>\n      <td>0</td>\n      <td>0</td>\n      <td>0</td>\n      <td>0</td>\n      <td>...</td>\n      <td>0</td>\n      <td>0</td>\n      <td>0</td>\n      <td>0</td>\n      <td>0</td>\n      <td>0</td>\n      <td>0</td>\n      <td>0</td>\n      <td>0</td>\n      <td>0</td>\n    </tr>\n    <tr>\n      <th>1</th>\n      <td>9</td>\n      <td>0</td>\n      <td>0</td>\n      <td>0</td>\n      <td>0</td>\n      <td>0</td>\n      <td>0</td>\n      <td>0</td>\n      <td>0</td>\n      <td>0</td>\n      <td>...</td>\n      <td>0</td>\n      <td>0</td>\n      <td>0</td>\n      <td>0</td>\n      <td>0</td>\n      <td>0</td>\n      <td>0</td>\n      <td>0</td>\n      <td>0</td>\n      <td>0</td>\n    </tr>\n    <tr>\n      <th>2</th>\n      <td>6</td>\n      <td>0</td>\n      <td>0</td>\n      <td>0</td>\n      <td>0</td>\n      <td>0</td>\n      <td>0</td>\n      <td>0</td>\n      <td>5</td>\n      <td>0</td>\n      <td>...</td>\n      <td>0</td>\n      <td>0</td>\n      <td>0</td>\n      <td>30</td>\n      <td>43</td>\n      <td>0</td>\n      <td>0</td>\n      <td>0</td>\n      <td>0</td>\n      <td>0</td>\n    </tr>\n    <tr>\n      <th>3</th>\n      <td>0</td>\n      <td>0</td>\n      <td>0</td>\n      <td>0</td>\n      <td>1</td>\n      <td>2</td>\n      <td>0</td>\n      <td>0</td>\n      <td>0</td>\n      <td>0</td>\n      <td>...</td>\n      <td>3</td>\n      <td>0</td>\n      <td>0</td>\n      <td>0</td>\n      <td>0</td>\n      <td>1</td>\n      <td>0</td>\n      <td>0</td>\n      <td>0</td>\n      <td>0</td>\n    </tr>\n    <tr>\n      <th>4</th>\n      <td>3</td>\n      <td>0</td>\n      <td>0</td>\n      <td>0</td>\n      <td>0</td>\n      <td>0</td>\n      <td>0</td>\n      <td>0</td>\n      <td>0</td>\n      <td>0</td>\n      <td>...</td>\n      <td>0</td>\n      <td>0</td>\n      <td>0</td>\n      <td>0</td>\n      <td>0</td>\n      <td>0</td>\n      <td>0</td>\n      <td>0</td>\n      <td>0</td>\n      <td>0</td>\n    </tr>\n  </tbody>\n</table>\n<p>5 rows × 785 columns</p>\n</div>"
          },
          "metadata": {}
        }
      ]
    },
    {
      "metadata": {
        "trusted": true,
        "_uuid": "e227d4ea42f075b179756b20daa28bc2ea427858"
      },
      "cell_type": "code",
      "source": "from sklearn.model_selection import train_test_split\nfrom keras.utils import to_categorical",
      "execution_count": 8,
      "outputs": [
        {
          "output_type": "stream",
          "text": "Using TensorFlow backend.\n",
          "name": "stderr"
        }
      ]
    },
    {
      "metadata": {
        "trusted": true,
        "_uuid": "ea15b9df38c5c7f702aa0ca6007ab598d57b7127"
      },
      "cell_type": "code",
      "source": "X=np.array(train.iloc[:,1:])\ny=to_categorical(np.array(train.iloc[:,0]))",
      "execution_count": 14,
      "outputs": []
    },
    {
      "metadata": {
        "trusted": true,
        "_uuid": "ce43d7cd777377526215f917d321e518e3e2b5a6"
      },
      "cell_type": "code",
      "source": "X_train,X_val,y_train,y_valt=train_test_split(X,y,test_size=0.1,random_state=42)",
      "execution_count": 15,
      "outputs": []
    },
    {
      "metadata": {
        "trusted": true,
        "_uuid": "e2aa43ccc132a74d09989ffb7e17528e476865a5"
      },
      "cell_type": "code",
      "source": "test.head()",
      "execution_count": 16,
      "outputs": [
        {
          "output_type": "execute_result",
          "execution_count": 16,
          "data": {
            "text/plain": "   label  pixel1  pixel2  pixel3  pixel4  pixel5  pixel6  pixel7  pixel8  \\\n0      0       0       0       0       0       0       0       0       9   \n1      1       0       0       0       0       0       0       0       0   \n2      2       0       0       0       0       0       0      14      53   \n3      2       0       0       0       0       0       0       0       0   \n4      3       0       0       0       0       0       0       0       0   \n\n   pixel9    ...     pixel775  pixel776  pixel777  pixel778  pixel779  \\\n0       8    ...          103        87        56         0         0   \n1       0    ...           34         0         0         0         0   \n2      99    ...            0         0         0         0        63   \n3       0    ...          137       126       140         0       133   \n4       0    ...            0         0         0         0         0   \n\n   pixel780  pixel781  pixel782  pixel783  pixel784  \n0         0         0         0         0         0  \n1         0         0         0         0         0  \n2        53        31         0         0         0  \n3       224       222        56         0         0  \n4         0         0         0         0         0  \n\n[5 rows x 785 columns]",
            "text/html": "<div>\n<style>\n    .dataframe thead tr:only-child th {\n        text-align: right;\n    }\n\n    .dataframe thead th {\n        text-align: left;\n    }\n\n    .dataframe tbody tr th {\n        vertical-align: top;\n    }\n</style>\n<table border=\"1\" class=\"dataframe\">\n  <thead>\n    <tr style=\"text-align: right;\">\n      <th></th>\n      <th>label</th>\n      <th>pixel1</th>\n      <th>pixel2</th>\n      <th>pixel3</th>\n      <th>pixel4</th>\n      <th>pixel5</th>\n      <th>pixel6</th>\n      <th>pixel7</th>\n      <th>pixel8</th>\n      <th>pixel9</th>\n      <th>...</th>\n      <th>pixel775</th>\n      <th>pixel776</th>\n      <th>pixel777</th>\n      <th>pixel778</th>\n      <th>pixel779</th>\n      <th>pixel780</th>\n      <th>pixel781</th>\n      <th>pixel782</th>\n      <th>pixel783</th>\n      <th>pixel784</th>\n    </tr>\n  </thead>\n  <tbody>\n    <tr>\n      <th>0</th>\n      <td>0</td>\n      <td>0</td>\n      <td>0</td>\n      <td>0</td>\n      <td>0</td>\n      <td>0</td>\n      <td>0</td>\n      <td>0</td>\n      <td>9</td>\n      <td>8</td>\n      <td>...</td>\n      <td>103</td>\n      <td>87</td>\n      <td>56</td>\n      <td>0</td>\n      <td>0</td>\n      <td>0</td>\n      <td>0</td>\n      <td>0</td>\n      <td>0</td>\n      <td>0</td>\n    </tr>\n    <tr>\n      <th>1</th>\n      <td>1</td>\n      <td>0</td>\n      <td>0</td>\n      <td>0</td>\n      <td>0</td>\n      <td>0</td>\n      <td>0</td>\n      <td>0</td>\n      <td>0</td>\n      <td>0</td>\n      <td>...</td>\n      <td>34</td>\n      <td>0</td>\n      <td>0</td>\n      <td>0</td>\n      <td>0</td>\n      <td>0</td>\n      <td>0</td>\n      <td>0</td>\n      <td>0</td>\n      <td>0</td>\n    </tr>\n    <tr>\n      <th>2</th>\n      <td>2</td>\n      <td>0</td>\n      <td>0</td>\n      <td>0</td>\n      <td>0</td>\n      <td>0</td>\n      <td>0</td>\n      <td>14</td>\n      <td>53</td>\n      <td>99</td>\n      <td>...</td>\n      <td>0</td>\n      <td>0</td>\n      <td>0</td>\n      <td>0</td>\n      <td>63</td>\n      <td>53</td>\n      <td>31</td>\n      <td>0</td>\n      <td>0</td>\n      <td>0</td>\n    </tr>\n    <tr>\n      <th>3</th>\n      <td>2</td>\n      <td>0</td>\n      <td>0</td>\n      <td>0</td>\n      <td>0</td>\n      <td>0</td>\n      <td>0</td>\n      <td>0</td>\n      <td>0</td>\n      <td>0</td>\n      <td>...</td>\n      <td>137</td>\n      <td>126</td>\n      <td>140</td>\n      <td>0</td>\n      <td>133</td>\n      <td>224</td>\n      <td>222</td>\n      <td>56</td>\n      <td>0</td>\n      <td>0</td>\n    </tr>\n    <tr>\n      <th>4</th>\n      <td>3</td>\n      <td>0</td>\n      <td>0</td>\n      <td>0</td>\n      <td>0</td>\n      <td>0</td>\n      <td>0</td>\n      <td>0</td>\n      <td>0</td>\n      <td>0</td>\n      <td>...</td>\n      <td>0</td>\n      <td>0</td>\n      <td>0</td>\n      <td>0</td>\n      <td>0</td>\n      <td>0</td>\n      <td>0</td>\n      <td>0</td>\n      <td>0</td>\n      <td>0</td>\n    </tr>\n  </tbody>\n</table>\n<p>5 rows × 785 columns</p>\n</div>"
          },
          "metadata": {}
        }
      ]
    },
    {
      "metadata": {
        "trusted": true,
        "collapsed": true,
        "_uuid": "c2ef515ae445a6b1b8b59d03b470abcfd046acdc"
      },
      "cell_type": "code",
      "source": "X_test=np.array(test.iloc[:,1:])\ny_test=to_categorical(np.array(test.iloc[:,0]))",
      "execution_count": 17,
      "outputs": []
    },
    {
      "metadata": {
        "trusted": true,
        "_uuid": "0c621ca057c93a06c57841814b08cc4d75e42e8b"
      },
      "cell_type": "code",
      "source": "X_train=X_train.reshape(X_train.shape[0],28,28,1)\nX_val=X_val.reshape(X_val.shape[0],28,28,1)\nX_test=X_test.reshape(X_test.shape[0],28,28,1)",
      "execution_count": 19,
      "outputs": []
    },
    {
      "metadata": {
        "trusted": true,
        "_uuid": "94caa5dda804fd78fc4d435292114f26b497d6f5"
      },
      "cell_type": "code",
      "source": "X_train=X_train/255.0\nX_val=X_val/255.0\nX_test=X_test/255.0",
      "execution_count": 27,
      "outputs": []
    },
    {
      "metadata": {
        "trusted": true,
        "_uuid": "9a22dd91d28e789394b28f1bb7ab7b9102daa1f0"
      },
      "cell_type": "code",
      "source": "X_train.dtype",
      "execution_count": 30,
      "outputs": [
        {
          "output_type": "execute_result",
          "execution_count": 30,
          "data": {
            "text/plain": "dtype('float64')"
          },
          "metadata": {}
        }
      ]
    },
    {
      "metadata": {
        "trusted": true,
        "collapsed": true,
        "_uuid": "428744c5687ed0e22b6d8b8719611f6edab63755"
      },
      "cell_type": "code",
      "source": "X_train=X_train.astype('float32')\nX_val=X_val.astype('float32')\nX_test=X_test.astype('float32')\n",
      "execution_count": 31,
      "outputs": []
    },
    {
      "metadata": {
        "trusted": true,
        "_uuid": "277e6a34e0cc688594da32988f4e37a3d2768f71"
      },
      "cell_type": "code",
      "source": "X_train.dtype",
      "execution_count": 32,
      "outputs": [
        {
          "output_type": "execute_result",
          "execution_count": 32,
          "data": {
            "text/plain": "dtype('float32')"
          },
          "metadata": {}
        }
      ]
    },
    {
      "metadata": {
        "trusted": true,
        "collapsed": true,
        "_uuid": "59473e8a4c6dd4a351e1e80e93e4b9b7853fc700"
      },
      "cell_type": "code",
      "source": "from keras.models import Sequential\nfrom keras.layers import Dense\nfrom keras.layers import Dropout\nfrom keras.layers import Flatten\nfrom keras.layers.convolutional import Conv2D\nfrom keras.layers.convolutional import MaxPooling2D\nfrom keras.utils import np_utils",
      "execution_count": 33,
      "outputs": []
    },
    {
      "metadata": {
        "trusted": true,
        "collapsed": true,
        "_uuid": "67552b33f05acb47d005045fc3cde6cf340d7408"
      },
      "cell_type": "code",
      "source": "batch_size=256\nnum_epochs=50\nnum_classes=10\ninput_shape=(28,28,1)",
      "execution_count": 34,
      "outputs": []
    },
    {
      "metadata": {
        "trusted": true,
        "_uuid": "c11d83bfcf3e6a0a924a74e2e6ad31899a2038fd"
      },
      "cell_type": "code",
      "source": "def build_model():\n    model =Sequential()\n    model.add(Conv2D(filters=32,kernel_size=3,strides=(1,1),input_shape=input_shape,activation='relu'))\n    model.add(MaxPooling2D(2,2))\n    model.add(Dropout(0.25))\n    model.add(Conv2D(filters=64,kernel_size=3,strides=(1,1),activation='relu'))\n    model.add(MaxPooling2D(2,2))\n    model.add(Dropout(0.25))\n    model.add(Conv2D(filters=128,kernel_size=3,strides=(1,1),activation='relu'))\n    model.add(MaxPooling2D(2,2))\n    model.add(Dropout(0.25))\n    model.add(Flatten())\n    model.add(Dense(1024,activation='relu'))\n    model.add(Dropout(0.25))\n    model.add(Dense(num_classes,activation='softmax'))\n    # Compile model\n    model.compile(loss='categorical_crossentropy', optimizer='adam', metrics=['accuracy'])\n    return model\n    ",
      "execution_count": 38,
      "outputs": []
    },
    {
      "metadata": {
        "trusted": true,
        "_uuid": "0e89c502702c130d4035e50c43b3e0f55c894f6e"
      },
      "cell_type": "code",
      "source": "model=build_model()\nprint(model.summary())",
      "execution_count": 39,
      "outputs": [
        {
          "output_type": "stream",
          "text": "_________________________________________________________________\nLayer (type)                 Output Shape              Param #   \n=================================================================\nconv2d_1 (Conv2D)            (None, 26, 26, 32)        320       \n_________________________________________________________________\nmax_pooling2d_1 (MaxPooling2 (None, 13, 13, 32)        0         \n_________________________________________________________________\ndropout_1 (Dropout)          (None, 13, 13, 32)        0         \n_________________________________________________________________\nconv2d_2 (Conv2D)            (None, 11, 11, 64)        18496     \n_________________________________________________________________\nmax_pooling2d_2 (MaxPooling2 (None, 5, 5, 64)          0         \n_________________________________________________________________\ndropout_2 (Dropout)          (None, 5, 5, 64)          0         \n_________________________________________________________________\nconv2d_3 (Conv2D)            (None, 3, 3, 128)         73856     \n_________________________________________________________________\nmax_pooling2d_3 (MaxPooling2 (None, 1, 1, 128)         0         \n_________________________________________________________________\ndropout_3 (Dropout)          (None, 1, 1, 128)         0         \n_________________________________________________________________\nflatten_1 (Flatten)          (None, 128)               0         \n_________________________________________________________________\ndense_1 (Dense)              (None, 1024)              132096    \n_________________________________________________________________\ndropout_4 (Dropout)          (None, 1024)              0         \n_________________________________________________________________\ndense_2 (Dense)              (None, 10)                10250     \n=================================================================\nTotal params: 235,018\nTrainable params: 235,018\nNon-trainable params: 0\n_________________________________________________________________\nNone\n",
          "name": "stdout"
        }
      ]
    },
    {
      "metadata": {
        "trusted": true,
        "_uuid": "1d597a1b71e840ae7804e79ab83b1dddaa56976d"
      },
      "cell_type": "code",
      "source": "history=model.fit(X_train,y_train,\n                  epochs=num_epochs,\n                  batch_size=batch_size,\n                  verbose=1,\n                  validation_data=(X_val, y_valt))\nscores=model.evaluate(X_test, y_test, verbose=0)",
      "execution_count": 41,
      "outputs": [
        {
          "output_type": "stream",
          "text": "Train on 54000 samples, validate on 6000 samples\nEpoch 1/50\n54000/54000 [==============================] - 60s 1ms/step - loss: 0.8969 - acc: 0.6598 - val_loss: 0.5751 - val_acc: 0.7835\nEpoch 2/50\n54000/54000 [==============================] - 61s 1ms/step - loss: 0.5823 - acc: 0.7841 - val_loss: 0.4789 - val_acc: 0.8263\nEpoch 3/50\n54000/54000 [==============================] - 62s 1ms/step - loss: 0.5129 - acc: 0.8107 - val_loss: 0.4161 - val_acc: 0.8425\nEpoch 4/50\n54000/54000 [==============================] - 62s 1ms/step - loss: 0.4664 - acc: 0.8292 - val_loss: 0.3795 - val_acc: 0.8600\nEpoch 5/50\n54000/54000 [==============================] - 62s 1ms/step - loss: 0.4326 - acc: 0.8405 - val_loss: 0.3616 - val_acc: 0.8675\nEpoch 6/50\n54000/54000 [==============================] - 62s 1ms/step - loss: 0.4101 - acc: 0.8489 - val_loss: 0.3347 - val_acc: 0.8773\nEpoch 7/50\n54000/54000 [==============================] - 62s 1ms/step - loss: 0.3922 - acc: 0.8557 - val_loss: 0.3188 - val_acc: 0.8827\nEpoch 8/50\n54000/54000 [==============================] - 59s 1ms/step - loss: 0.3763 - acc: 0.8620 - val_loss: 0.3235 - val_acc: 0.8808\nEpoch 9/50\n54000/54000 [==============================] - 60s 1ms/step - loss: 0.3640 - acc: 0.8660 - val_loss: 0.3157 - val_acc: 0.8815\nEpoch 10/50\n54000/54000 [==============================] - 59s 1ms/step - loss: 0.3560 - acc: 0.8694 - val_loss: 0.3042 - val_acc: 0.8895\nEpoch 11/50\n54000/54000 [==============================] - 55s 1ms/step - loss: 0.3413 - acc: 0.8737 - val_loss: 0.2907 - val_acc: 0.8940\nEpoch 12/50\n54000/54000 [==============================] - 56s 1ms/step - loss: 0.3351 - acc: 0.8768 - val_loss: 0.2905 - val_acc: 0.8933\nEpoch 13/50\n54000/54000 [==============================] - 60s 1ms/step - loss: 0.3282 - acc: 0.8774 - val_loss: 0.2889 - val_acc: 0.8942\nEpoch 14/50\n54000/54000 [==============================] - 60s 1ms/step - loss: 0.3199 - acc: 0.8804 - val_loss: 0.2762 - val_acc: 0.8970\nEpoch 15/50\n54000/54000 [==============================] - 58s 1ms/step - loss: 0.3165 - acc: 0.8819 - val_loss: 0.2737 - val_acc: 0.8963\nEpoch 16/50\n54000/54000 [==============================] - 59s 1ms/step - loss: 0.3112 - acc: 0.8829 - val_loss: 0.2687 - val_acc: 0.8983\nEpoch 17/50\n54000/54000 [==============================] - 60s 1ms/step - loss: 0.3037 - acc: 0.8870 - val_loss: 0.2665 - val_acc: 0.8998\nEpoch 18/50\n54000/54000 [==============================] - 60s 1ms/step - loss: 0.3009 - acc: 0.8877 - val_loss: 0.2642 - val_acc: 0.9010\nEpoch 19/50\n54000/54000 [==============================] - 60s 1ms/step - loss: 0.2983 - acc: 0.8883 - val_loss: 0.2737 - val_acc: 0.8975\nEpoch 20/50\n54000/54000 [==============================] - 60s 1ms/step - loss: 0.2919 - acc: 0.8901 - val_loss: 0.2625 - val_acc: 0.9010\nEpoch 21/50\n54000/54000 [==============================] - 59s 1ms/step - loss: 0.2883 - acc: 0.8922 - val_loss: 0.2598 - val_acc: 0.9050\nEpoch 22/50\n54000/54000 [==============================] - 58s 1ms/step - loss: 0.2845 - acc: 0.8941 - val_loss: 0.2552 - val_acc: 0.9040\nEpoch 23/50\n54000/54000 [==============================] - 59s 1ms/step - loss: 0.2786 - acc: 0.8950 - val_loss: 0.2547 - val_acc: 0.9013\nEpoch 24/50\n54000/54000 [==============================] - 58s 1ms/step - loss: 0.2740 - acc: 0.8985 - val_loss: 0.2526 - val_acc: 0.9053\nEpoch 25/50\n54000/54000 [==============================] - 58s 1ms/step - loss: 0.2758 - acc: 0.8968 - val_loss: 0.2477 - val_acc: 0.9062\nEpoch 26/50\n54000/54000 [==============================] - 60s 1ms/step - loss: 0.2735 - acc: 0.8975 - val_loss: 0.2481 - val_acc: 0.9043\nEpoch 27/50\n54000/54000 [==============================] - 59s 1ms/step - loss: 0.2658 - acc: 0.8993 - val_loss: 0.2503 - val_acc: 0.9060\nEpoch 28/50\n54000/54000 [==============================] - 58s 1ms/step - loss: 0.2661 - acc: 0.8992 - val_loss: 0.2531 - val_acc: 0.9095\nEpoch 29/50\n54000/54000 [==============================] - 58s 1ms/step - loss: 0.2656 - acc: 0.9002 - val_loss: 0.2475 - val_acc: 0.9098\nEpoch 30/50\n54000/54000 [==============================] - 58s 1ms/step - loss: 0.2639 - acc: 0.9002 - val_loss: 0.2506 - val_acc: 0.9050\nEpoch 31/50\n54000/54000 [==============================] - 59s 1ms/step - loss: 0.2581 - acc: 0.9034 - val_loss: 0.2482 - val_acc: 0.9063\nEpoch 32/50\n54000/54000 [==============================] - 58s 1ms/step - loss: 0.2573 - acc: 0.9022 - val_loss: 0.2500 - val_acc: 0.9105\nEpoch 33/50\n54000/54000 [==============================] - 58s 1ms/step - loss: 0.2575 - acc: 0.9028 - val_loss: 0.2496 - val_acc: 0.9060\nEpoch 34/50\n54000/54000 [==============================] - 57s 1ms/step - loss: 0.2573 - acc: 0.9035 - val_loss: 0.2466 - val_acc: 0.9067\nEpoch 35/50\n54000/54000 [==============================] - 59s 1ms/step - loss: 0.2520 - acc: 0.9056 - val_loss: 0.2434 - val_acc: 0.9107\nEpoch 36/50\n54000/54000 [==============================] - 59s 1ms/step - loss: 0.2523 - acc: 0.9050 - val_loss: 0.2504 - val_acc: 0.9090\nEpoch 37/50\n54000/54000 [==============================] - 59s 1ms/step - loss: 0.2521 - acc: 0.9054 - val_loss: 0.2410 - val_acc: 0.9093\nEpoch 38/50\n54000/54000 [==============================] - 59s 1ms/step - loss: 0.2488 - acc: 0.9050 - val_loss: 0.2492 - val_acc: 0.9063\nEpoch 39/50\n54000/54000 [==============================] - 58s 1ms/step - loss: 0.2429 - acc: 0.9075 - val_loss: 0.2448 - val_acc: 0.9083\nEpoch 40/50\n54000/54000 [==============================] - 58s 1ms/step - loss: 0.2457 - acc: 0.9071 - val_loss: 0.2446 - val_acc: 0.9095\nEpoch 41/50\n54000/54000 [==============================] - 59s 1ms/step - loss: 0.2437 - acc: 0.9080 - val_loss: 0.2525 - val_acc: 0.9040\nEpoch 42/50\n54000/54000 [==============================] - 57s 1ms/step - loss: 0.2396 - acc: 0.9099 - val_loss: 0.2444 - val_acc: 0.9118\nEpoch 43/50\n54000/54000 [==============================] - 56s 1ms/step - loss: 0.2421 - acc: 0.9083 - val_loss: 0.2505 - val_acc: 0.9085\nEpoch 44/50\n54000/54000 [==============================] - 56s 1ms/step - loss: 0.2407 - acc: 0.9083 - val_loss: 0.2466 - val_acc: 0.9102\nEpoch 45/50\n54000/54000 [==============================] - 56s 1ms/step - loss: 0.2378 - acc: 0.9085 - val_loss: 0.2379 - val_acc: 0.9170\nEpoch 46/50\n54000/54000 [==============================] - 55s 1ms/step - loss: 0.2388 - acc: 0.9099 - val_loss: 0.2464 - val_acc: 0.9138\nEpoch 47/50\n54000/54000 [==============================] - 53s 991us/step - loss: 0.2346 - acc: 0.9109 - val_loss: 0.2443 - val_acc: 0.9128\nEpoch 48/50\n54000/54000 [==============================] - 54s 1ms/step - loss: 0.2353 - acc: 0.9113 - val_loss: 0.2386 - val_acc: 0.9147\nEpoch 49/50\n54000/54000 [==============================] - 55s 1ms/step - loss: 0.2329 - acc: 0.9125 - val_loss: 0.2450 - val_acc: 0.9097\nEpoch 50/50\n54000/54000 [==============================] - 54s 996us/step - loss: 0.2283 - acc: 0.9132 - val_loss: 0.2371 - val_acc: 0.9143\n",
          "name": "stdout"
        }
      ]
    },
    {
      "metadata": {
        "trusted": true,
        "_uuid": "0d6571f3fb57546234086810e1ee46c74645b3a6"
      },
      "cell_type": "code",
      "source": "print('Test loss:', scores[0])\nprint('Test accuracy:', scores[1])",
      "execution_count": 42,
      "outputs": [
        {
          "output_type": "stream",
          "text": "Test loss: 0.235116134453\nTest accuracy: 0.916\n",
          "name": "stdout"
        }
      ]
    }
  ],
  "metadata": {
    "language_info": {
      "name": "python",
      "version": "3.6.4",
      "mimetype": "text/x-python",
      "codemirror_mode": {
        "name": "ipython",
        "version": 3
      },
      "pygments_lexer": "ipython3",
      "nbconvert_exporter": "python",
      "file_extension": ".py"
    },
    "kernelspec": {
      "display_name": "Python 3",
      "language": "python",
      "name": "python3"
    }
  },
  "nbformat": 4,
  "nbformat_minor": 1
}