{
  "cells": [
    {
      "metadata": {
        "_cell_guid": "99974020-2f99-4f50-a201-e7311b792179",
        "_uuid": "0b3ee47b5336bf4df3ced83cc780115295d16968",
        "scrolled": true,
        "trusted": true
      },
      "cell_type": "code",
      "source": "# This Python 3 environment comes with many helpful analytics libraries installed\n# It is defined by the kaggle/python docker image: https://github.com/kaggle/docker-python\n# For example, here's several helpful packages to load in \n\nimport numpy as np # linear algebra\nimport pandas as pd # data processing, CSV file I/O (e.g. pd.read_csv)\n\n# Input data files are available in the \"../input/\" directory.\n# For example, running this (by clicking run or pressing Shift+Enter) will list the files in the input directory\n\n\nfrom subprocess import check_output\nprint(check_output([\"ls\", \"../input\"]).decode(\"utf8\"))\n\n# Any results you write to the current directory are saved as output.",
      "execution_count": 1,
      "outputs": [
        {
          "output_type": "stream",
          "text": "fashion-mnist_test.csv\nfashion-mnist_train.csv\nt10k-images-idx3-ubyte\nt10k-labels-idx1-ubyte\ntrain-images-idx3-ubyte\ntrain-labels-idx1-ubyte\n\n",
          "name": "stdout"
        }
      ]
    },
    {
      "metadata": {
        "_cell_guid": "70b72598-4d09-43c9-990a-17d441375a5b",
        "_uuid": "c076b0941c3761ecf634779dfccd875a3c86ebe3",
        "collapsed": true,
        "trusted": true
      },
      "cell_type": "code",
      "source": "train=pd.read_csv(\"../input/fashion-mnist_train.csv\")\ntest=pd.read_csv(\"../input/fashion-mnist_test.csv\")",
      "execution_count": 2,
      "outputs": []
    },
    {
      "metadata": {
        "_cell_guid": "e307f32f-96e4-4af2-89ab-5d6a524c8565",
        "_uuid": "45f9071e68d8bf7b11364e2a1f04a2ec86e0a81f",
        "trusted": true
      },
      "cell_type": "code",
      "source": "train.shape",
      "execution_count": 3,
      "outputs": [
        {
          "output_type": "execute_result",
          "execution_count": 3,
          "data": {
            "text/plain": "(60000, 785)"
          },
          "metadata": {}
        }
      ]
    },
    {
      "metadata": {
        "_cell_guid": "46b78416-8474-4e5e-a21f-9183a60ac5e0",
        "_uuid": "bfa39241e082c0dd616d9cd109a80db5722f4018",
        "scrolled": true,
        "trusted": true
      },
      "cell_type": "code",
      "source": "train.head()",
      "execution_count": 4,
      "outputs": [
        {
          "output_type": "execute_result",
          "execution_count": 4,
          "data": {
            "text/plain": "   label  pixel1  pixel2  pixel3  pixel4  pixel5  pixel6  pixel7  pixel8  \\\n0      2       0       0       0       0       0       0       0       0   \n1      9       0       0       0       0       0       0       0       0   \n2      6       0       0       0       0       0       0       0       5   \n3      0       0       0       0       1       2       0       0       0   \n4      3       0       0       0       0       0       0       0       0   \n\n   pixel9    ...     pixel775  pixel776  pixel777  pixel778  pixel779  \\\n0       0    ...            0         0         0         0         0   \n1       0    ...            0         0         0         0         0   \n2       0    ...            0         0         0        30        43   \n3       0    ...            3         0         0         0         0   \n4       0    ...            0         0         0         0         0   \n\n   pixel780  pixel781  pixel782  pixel783  pixel784  \n0         0         0         0         0         0  \n1         0         0         0         0         0  \n2         0         0         0         0         0  \n3         1         0         0         0         0  \n4         0         0         0         0         0  \n\n[5 rows x 785 columns]",
            "text/html": "<div>\n<style>\n    .dataframe thead tr:only-child th {\n        text-align: right;\n    }\n\n    .dataframe thead th {\n        text-align: left;\n    }\n\n    .dataframe tbody tr th {\n        vertical-align: top;\n    }\n</style>\n<table border=\"1\" class=\"dataframe\">\n  <thead>\n    <tr style=\"text-align: right;\">\n      <th></th>\n      <th>label</th>\n      <th>pixel1</th>\n      <th>pixel2</th>\n      <th>pixel3</th>\n      <th>pixel4</th>\n      <th>pixel5</th>\n      <th>pixel6</th>\n      <th>pixel7</th>\n      <th>pixel8</th>\n      <th>pixel9</th>\n      <th>...</th>\n      <th>pixel775</th>\n      <th>pixel776</th>\n      <th>pixel777</th>\n      <th>pixel778</th>\n      <th>pixel779</th>\n      <th>pixel780</th>\n      <th>pixel781</th>\n      <th>pixel782</th>\n      <th>pixel783</th>\n      <th>pixel784</th>\n    </tr>\n  </thead>\n  <tbody>\n    <tr>\n      <th>0</th>\n      <td>2</td>\n      <td>0</td>\n      <td>0</td>\n      <td>0</td>\n      <td>0</td>\n      <td>0</td>\n      <td>0</td>\n      <td>0</td>\n      <td>0</td>\n      <td>0</td>\n      <td>...</td>\n      <td>0</td>\n      <td>0</td>\n      <td>0</td>\n      <td>0</td>\n      <td>0</td>\n      <td>0</td>\n      <td>0</td>\n      <td>0</td>\n      <td>0</td>\n      <td>0</td>\n    </tr>\n    <tr>\n      <th>1</th>\n      <td>9</td>\n      <td>0</td>\n      <td>0</td>\n      <td>0</td>\n      <td>0</td>\n      <td>0</td>\n      <td>0</td>\n      <td>0</td>\n      <td>0</td>\n      <td>0</td>\n      <td>...</td>\n      <td>0</td>\n      <td>0</td>\n      <td>0</td>\n      <td>0</td>\n      <td>0</td>\n      <td>0</td>\n      <td>0</td>\n      <td>0</td>\n      <td>0</td>\n      <td>0</td>\n    </tr>\n    <tr>\n      <th>2</th>\n      <td>6</td>\n      <td>0</td>\n      <td>0</td>\n      <td>0</td>\n      <td>0</td>\n      <td>0</td>\n      <td>0</td>\n      <td>0</td>\n      <td>5</td>\n      <td>0</td>\n      <td>...</td>\n      <td>0</td>\n      <td>0</td>\n      <td>0</td>\n      <td>30</td>\n      <td>43</td>\n      <td>0</td>\n      <td>0</td>\n      <td>0</td>\n      <td>0</td>\n      <td>0</td>\n    </tr>\n    <tr>\n      <th>3</th>\n      <td>0</td>\n      <td>0</td>\n      <td>0</td>\n      <td>0</td>\n      <td>1</td>\n      <td>2</td>\n      <td>0</td>\n      <td>0</td>\n      <td>0</td>\n      <td>0</td>\n      <td>...</td>\n      <td>3</td>\n      <td>0</td>\n      <td>0</td>\n      <td>0</td>\n      <td>0</td>\n      <td>1</td>\n      <td>0</td>\n      <td>0</td>\n      <td>0</td>\n      <td>0</td>\n    </tr>\n    <tr>\n      <th>4</th>\n      <td>3</td>\n      <td>0</td>\n      <td>0</td>\n      <td>0</td>\n      <td>0</td>\n      <td>0</td>\n      <td>0</td>\n      <td>0</td>\n      <td>0</td>\n      <td>0</td>\n      <td>...</td>\n      <td>0</td>\n      <td>0</td>\n      <td>0</td>\n      <td>0</td>\n      <td>0</td>\n      <td>0</td>\n      <td>0</td>\n      <td>0</td>\n      <td>0</td>\n      <td>0</td>\n    </tr>\n  </tbody>\n</table>\n<p>5 rows × 785 columns</p>\n</div>"
          },
          "metadata": {}
        }
      ]
    },
    {
      "metadata": {
        "_cell_guid": "5a14c027-a269-4d1f-9bd9-97c878cbc296",
        "_uuid": "fecc55c509f8a453d3c44798ee19fb5adb45b756",
        "trusted": true
      },
      "cell_type": "code",
      "source": "from sklearn.model_selection import train_test_split\nfrom keras.utils import to_categorical",
      "execution_count": 5,
      "outputs": [
        {
          "output_type": "stream",
          "text": "Using TensorFlow backend.\n",
          "name": "stderr"
        }
      ]
    },
    {
      "metadata": {
        "_cell_guid": "6629dece-72a0-4e24-bfbe-2e5a68332fed",
        "_uuid": "2637728e8a4853381857d8066f2905b3e03a8347",
        "collapsed": true,
        "trusted": true
      },
      "cell_type": "code",
      "source": "X=np.array(train.iloc[:,1:])\ny=to_categorical(np.array(train.iloc[:,0]))",
      "execution_count": 6,
      "outputs": []
    },
    {
      "metadata": {
        "_cell_guid": "690030b6-0218-4e7f-acd2-48cd73bfa4b4",
        "_uuid": "501b489d9bcea220e63c1022ff4e719d866b3cd8",
        "collapsed": true,
        "trusted": true
      },
      "cell_type": "code",
      "source": "X_train,X_val,y_train,y_val=train_test_split(X,y,test_size=0.1,random_state=42)",
      "execution_count": 7,
      "outputs": []
    },
    {
      "metadata": {
        "_cell_guid": "9e6b8e5d-5546-41bb-9703-90d1e6e3e0a4",
        "_uuid": "b262ad066bae37ee1bdf87da523b4b29dd5ae1b4",
        "trusted": true
      },
      "cell_type": "code",
      "source": "test.head()",
      "execution_count": 8,
      "outputs": [
        {
          "output_type": "execute_result",
          "execution_count": 8,
          "data": {
            "text/plain": "   label  pixel1  pixel2  pixel3  pixel4  pixel5  pixel6  pixel7  pixel8  \\\n0      0       0       0       0       0       0       0       0       9   \n1      1       0       0       0       0       0       0       0       0   \n2      2       0       0       0       0       0       0      14      53   \n3      2       0       0       0       0       0       0       0       0   \n4      3       0       0       0       0       0       0       0       0   \n\n   pixel9    ...     pixel775  pixel776  pixel777  pixel778  pixel779  \\\n0       8    ...          103        87        56         0         0   \n1       0    ...           34         0         0         0         0   \n2      99    ...            0         0         0         0        63   \n3       0    ...          137       126       140         0       133   \n4       0    ...            0         0         0         0         0   \n\n   pixel780  pixel781  pixel782  pixel783  pixel784  \n0         0         0         0         0         0  \n1         0         0         0         0         0  \n2        53        31         0         0         0  \n3       224       222        56         0         0  \n4         0         0         0         0         0  \n\n[5 rows x 785 columns]",
            "text/html": "<div>\n<style>\n    .dataframe thead tr:only-child th {\n        text-align: right;\n    }\n\n    .dataframe thead th {\n        text-align: left;\n    }\n\n    .dataframe tbody tr th {\n        vertical-align: top;\n    }\n</style>\n<table border=\"1\" class=\"dataframe\">\n  <thead>\n    <tr style=\"text-align: right;\">\n      <th></th>\n      <th>label</th>\n      <th>pixel1</th>\n      <th>pixel2</th>\n      <th>pixel3</th>\n      <th>pixel4</th>\n      <th>pixel5</th>\n      <th>pixel6</th>\n      <th>pixel7</th>\n      <th>pixel8</th>\n      <th>pixel9</th>\n      <th>...</th>\n      <th>pixel775</th>\n      <th>pixel776</th>\n      <th>pixel777</th>\n      <th>pixel778</th>\n      <th>pixel779</th>\n      <th>pixel780</th>\n      <th>pixel781</th>\n      <th>pixel782</th>\n      <th>pixel783</th>\n      <th>pixel784</th>\n    </tr>\n  </thead>\n  <tbody>\n    <tr>\n      <th>0</th>\n      <td>0</td>\n      <td>0</td>\n      <td>0</td>\n      <td>0</td>\n      <td>0</td>\n      <td>0</td>\n      <td>0</td>\n      <td>0</td>\n      <td>9</td>\n      <td>8</td>\n      <td>...</td>\n      <td>103</td>\n      <td>87</td>\n      <td>56</td>\n      <td>0</td>\n      <td>0</td>\n      <td>0</td>\n      <td>0</td>\n      <td>0</td>\n      <td>0</td>\n      <td>0</td>\n    </tr>\n    <tr>\n      <th>1</th>\n      <td>1</td>\n      <td>0</td>\n      <td>0</td>\n      <td>0</td>\n      <td>0</td>\n      <td>0</td>\n      <td>0</td>\n      <td>0</td>\n      <td>0</td>\n      <td>0</td>\n      <td>...</td>\n      <td>34</td>\n      <td>0</td>\n      <td>0</td>\n      <td>0</td>\n      <td>0</td>\n      <td>0</td>\n      <td>0</td>\n      <td>0</td>\n      <td>0</td>\n      <td>0</td>\n    </tr>\n    <tr>\n      <th>2</th>\n      <td>2</td>\n      <td>0</td>\n      <td>0</td>\n      <td>0</td>\n      <td>0</td>\n      <td>0</td>\n      <td>0</td>\n      <td>14</td>\n      <td>53</td>\n      <td>99</td>\n      <td>...</td>\n      <td>0</td>\n      <td>0</td>\n      <td>0</td>\n      <td>0</td>\n      <td>63</td>\n      <td>53</td>\n      <td>31</td>\n      <td>0</td>\n      <td>0</td>\n      <td>0</td>\n    </tr>\n    <tr>\n      <th>3</th>\n      <td>2</td>\n      <td>0</td>\n      <td>0</td>\n      <td>0</td>\n      <td>0</td>\n      <td>0</td>\n      <td>0</td>\n      <td>0</td>\n      <td>0</td>\n      <td>0</td>\n      <td>...</td>\n      <td>137</td>\n      <td>126</td>\n      <td>140</td>\n      <td>0</td>\n      <td>133</td>\n      <td>224</td>\n      <td>222</td>\n      <td>56</td>\n      <td>0</td>\n      <td>0</td>\n    </tr>\n    <tr>\n      <th>4</th>\n      <td>3</td>\n      <td>0</td>\n      <td>0</td>\n      <td>0</td>\n      <td>0</td>\n      <td>0</td>\n      <td>0</td>\n      <td>0</td>\n      <td>0</td>\n      <td>0</td>\n      <td>...</td>\n      <td>0</td>\n      <td>0</td>\n      <td>0</td>\n      <td>0</td>\n      <td>0</td>\n      <td>0</td>\n      <td>0</td>\n      <td>0</td>\n      <td>0</td>\n      <td>0</td>\n    </tr>\n  </tbody>\n</table>\n<p>5 rows × 785 columns</p>\n</div>"
          },
          "metadata": {}
        }
      ]
    },
    {
      "metadata": {
        "_cell_guid": "1561e360-ce1d-4650-a52e-f9c2acb04d1c",
        "_uuid": "76976105816ad9a0f69e3a588fecd5bda9926f50",
        "collapsed": true,
        "trusted": true
      },
      "cell_type": "code",
      "source": "X_test=np.array(test.iloc[:,1:])\ny_test=to_categorical(np.array(test.iloc[:,0]))",
      "execution_count": 9,
      "outputs": []
    },
    {
      "metadata": {
        "_cell_guid": "9834088b-dbff-4241-8214-a36347f730dc",
        "_uuid": "cc3e9b86610fc9da80ae5826535c45e5f3d53af2",
        "collapsed": true,
        "trusted": true
      },
      "cell_type": "code",
      "source": "X_train=X_train.reshape(X_train.shape[0],28,28,1)\nX_val=X_val.reshape(X_val.shape[0],28,28,1)\nX_test=X_test.reshape(X_test.shape[0],28,28,1)",
      "execution_count": 10,
      "outputs": []
    },
    {
      "metadata": {
        "_cell_guid": "e8e4e7ae-168b-46b6-9f9e-e26dfdde56b8",
        "_uuid": "82068106f01722edf3edfd89492ba019ade3ff14",
        "collapsed": true,
        "trusted": true
      },
      "cell_type": "code",
      "source": "X_train=X_train/255.0\nX_val=X_val/255.0\nX_test=X_test/255.0",
      "execution_count": 11,
      "outputs": []
    },
    {
      "metadata": {
        "_cell_guid": "114305b9-55d5-4df0-bf48-1134395fbae8",
        "_uuid": "3ad412559b7c301d54f388dcea68b54336ae3601",
        "trusted": true
      },
      "cell_type": "code",
      "source": "X_train.dtype",
      "execution_count": 12,
      "outputs": [
        {
          "output_type": "execute_result",
          "execution_count": 12,
          "data": {
            "text/plain": "dtype('float64')"
          },
          "metadata": {}
        }
      ]
    },
    {
      "metadata": {
        "_cell_guid": "134216c5-9d90-455d-a715-c9dd342fabd5",
        "_uuid": "4370b5df0aa480520f2f1fb264e5bdfc42e24e3f",
        "collapsed": true,
        "trusted": true
      },
      "cell_type": "code",
      "source": "X_train=X_train.astype('float32')\nX_val=X_val.astype('float32')\nX_test=X_test.astype('float32')\n",
      "execution_count": 13,
      "outputs": []
    },
    {
      "metadata": {
        "_cell_guid": "c6495eef-5261-44d4-875f-94b03d4ed699",
        "_uuid": "974250178926c4af8a42696adbf099d92bff3fb5",
        "trusted": true
      },
      "cell_type": "code",
      "source": "X_train.dtype",
      "execution_count": 14,
      "outputs": [
        {
          "output_type": "execute_result",
          "execution_count": 14,
          "data": {
            "text/plain": "dtype('float32')"
          },
          "metadata": {}
        }
      ]
    },
    {
      "metadata": {
        "_cell_guid": "3ea8762a-3dda-42d9-8f61-380f663d9f41",
        "_uuid": "e54cc0599834b50e4210d774a0ffcc1c38c9f0d2",
        "collapsed": true,
        "trusted": true
      },
      "cell_type": "code",
      "source": "from keras.models import Sequential\nfrom keras.layers import Dense\nfrom keras.layers import Dropout\nfrom keras.layers import Flatten\nfrom keras.layers.convolutional import Conv2D\nfrom keras.layers.convolutional import MaxPooling2D\nfrom keras.utils import np_utils",
      "execution_count": 15,
      "outputs": []
    },
    {
      "metadata": {
        "_cell_guid": "56bd44e0-9456-42d8-8fa1-05b3da3b7b0b",
        "_uuid": "9ab91415fa1829945560e096e72e1e66dfec1a0c",
        "collapsed": true,
        "trusted": true
      },
      "cell_type": "code",
      "source": "batch_size=256\nnum_epochs=30\nnum_classes=10\ninput_shape=(28,28,1)",
      "execution_count": 16,
      "outputs": []
    },
    {
      "metadata": {
        "_cell_guid": "2d247739-6f32-415d-a8b9-198407c489a5",
        "_uuid": "0bf0e53fcf1a4bb6601a80b0da7d689027168fd9",
        "collapsed": true,
        "trusted": true
      },
      "cell_type": "code",
      "source": "def build_model():\n    model =Sequential()\n    model.add(Conv2D(filters=32,kernel_size=5,strides=(1,1),input_shape=input_shape,activation='relu'))\n    model.add(MaxPooling2D(2,2))\n    model.add(Dropout(0.25))\n    model.add(Conv2D(filters=64,kernel_size=5,strides=(1,1),activation='relu'))\n    model.add(MaxPooling2D(2,2))\n    model.add(Dropout(0.25))\n    #model.add(Conv2D(filters=128,kernel_size=3,strides=(1,1),activation='relu'))\n    #model.add(MaxPooling2D(2,2))\n    #model.add(Dropout(0.35))\n    model.add(Flatten())\n    model.add(Dense(1024,activation='relu'))\n    model.add(Dropout(0.25))\n    model.add(Dense(num_classes,activation='softmax'))\n    # Compile model\n    model.compile(loss='categorical_crossentropy', optimizer='adam', metrics=['accuracy'])\n    return model\n    ",
      "execution_count": 17,
      "outputs": []
    },
    {
      "metadata": {
        "_cell_guid": "2ab14c5f-b49c-42f9-b99d-58fbf00cd6a3",
        "_uuid": "ff870f11ec6e94ba945ce558cfa35ec773e7bb44",
        "trusted": true
      },
      "cell_type": "code",
      "source": "model=build_model()\nprint(model.summary())",
      "execution_count": 18,
      "outputs": [
        {
          "output_type": "stream",
          "text": "_________________________________________________________________\nLayer (type)                 Output Shape              Param #   \n=================================================================\nconv2d_1 (Conv2D)            (None, 24, 24, 32)        832       \n_________________________________________________________________\nmax_pooling2d_1 (MaxPooling2 (None, 12, 12, 32)        0         \n_________________________________________________________________\ndropout_1 (Dropout)          (None, 12, 12, 32)        0         \n_________________________________________________________________\nconv2d_2 (Conv2D)            (None, 8, 8, 64)          51264     \n_________________________________________________________________\nmax_pooling2d_2 (MaxPooling2 (None, 4, 4, 64)          0         \n_________________________________________________________________\ndropout_2 (Dropout)          (None, 4, 4, 64)          0         \n_________________________________________________________________\nflatten_1 (Flatten)          (None, 1024)              0         \n_________________________________________________________________\ndense_1 (Dense)              (None, 1024)              1049600   \n_________________________________________________________________\ndropout_3 (Dropout)          (None, 1024)              0         \n_________________________________________________________________\ndense_2 (Dense)              (None, 10)                10250     \n=================================================================\nTotal params: 1,111,946\nTrainable params: 1,111,946\nNon-trainable params: 0\n_________________________________________________________________\nNone\n",
          "name": "stdout"
        }
      ]
    },
    {
      "metadata": {
        "_cell_guid": "0af5b94e-52a4-4b75-aba6-3d994edb1cef",
        "_uuid": "a77b023175016158dc03b6b9f6a06c0ec94a11e6",
        "trusted": true
      },
      "cell_type": "code",
      "source": "history=model.fit(X_train,y_train,\n                  epochs=num_epochs,\n                  batch_size=batch_size,\n                  verbose=1,\n                  validation_data=(X_val, y_val))\nscores=model.evaluate(X_test, y_test, verbose=0)",
      "execution_count": 19,
      "outputs": [
        {
          "output_type": "stream",
          "text": "Train on 54000 samples, validate on 6000 samples\nEpoch 1/35\n54000/54000 [==============================] - 63s 1ms/step - loss: 0.6714 - acc: 0.7533 - val_loss: 0.4384 - val_acc: 0.8493\nEpoch 2/35\n54000/54000 [==============================] - 64s 1ms/step - loss: 0.4244 - acc: 0.8466 - val_loss: 0.3436 - val_acc: 0.8728\nEpoch 3/35\n54000/54000 [==============================] - 63s 1ms/step - loss: 0.3624 - acc: 0.8679 - val_loss: 0.3140 - val_acc: 0.8832\nEpoch 4/35\n54000/54000 [==============================] - 64s 1ms/step - loss: 0.3287 - acc: 0.8808 - val_loss: 0.2930 - val_acc: 0.8918\nEpoch 5/35\n54000/54000 [==============================] - 63s 1ms/step - loss: 0.3076 - acc: 0.8876 - val_loss: 0.2735 - val_acc: 0.9012\nEpoch 6/35\n54000/54000 [==============================] - 64s 1ms/step - loss: 0.2878 - acc: 0.8937 - val_loss: 0.2581 - val_acc: 0.9052\nEpoch 7/35\n54000/54000 [==============================] - 63s 1ms/step - loss: 0.2729 - acc: 0.8981 - val_loss: 0.2543 - val_acc: 0.9050\nEpoch 8/35\n54000/54000 [==============================] - 63s 1ms/step - loss: 0.2607 - acc: 0.9025 - val_loss: 0.2606 - val_acc: 0.9030\nEpoch 9/35\n54000/54000 [==============================] - 62s 1ms/step - loss: 0.2514 - acc: 0.9069 - val_loss: 0.2425 - val_acc: 0.9092\nEpoch 10/35\n54000/54000 [==============================] - 62s 1ms/step - loss: 0.2414 - acc: 0.9103 - val_loss: 0.2393 - val_acc: 0.9108\nEpoch 11/35\n54000/54000 [==============================] - 62s 1ms/step - loss: 0.2295 - acc: 0.9139 - val_loss: 0.2302 - val_acc: 0.9140\nEpoch 12/35\n54000/54000 [==============================] - 62s 1ms/step - loss: 0.2222 - acc: 0.9159 - val_loss: 0.2239 - val_acc: 0.9168\nEpoch 13/35\n54000/54000 [==============================] - 63s 1ms/step - loss: 0.2122 - acc: 0.9212 - val_loss: 0.2272 - val_acc: 0.9182\nEpoch 14/35\n54000/54000 [==============================] - 60s 1ms/step - loss: 0.2033 - acc: 0.9229 - val_loss: 0.2292 - val_acc: 0.9180\nEpoch 15/35\n54000/54000 [==============================] - 59s 1ms/step - loss: 0.1990 - acc: 0.9253 - val_loss: 0.2243 - val_acc: 0.9233\nEpoch 16/35\n54000/54000 [==============================] - 58s 1ms/step - loss: 0.1913 - acc: 0.9281 - val_loss: 0.2340 - val_acc: 0.9175\nEpoch 17/35\n54000/54000 [==============================] - 57s 1ms/step - loss: 0.1845 - acc: 0.9307 - val_loss: 0.2329 - val_acc: 0.9182\nEpoch 18/35\n54000/54000 [==============================] - 58s 1ms/step - loss: 0.1779 - acc: 0.9325 - val_loss: 0.2207 - val_acc: 0.9207\nEpoch 19/35\n54000/54000 [==============================] - 58s 1ms/step - loss: 0.1719 - acc: 0.9354 - val_loss: 0.2277 - val_acc: 0.9163\nEpoch 20/35\n54000/54000 [==============================] - 58s 1ms/step - loss: 0.1695 - acc: 0.9351 - val_loss: 0.2269 - val_acc: 0.9172\nEpoch 21/35\n54000/54000 [==============================] - 56s 1ms/step - loss: 0.1636 - acc: 0.9375 - val_loss: 0.2175 - val_acc: 0.9257\nEpoch 22/35\n54000/54000 [==============================] - 55s 1ms/step - loss: 0.1580 - acc: 0.9397 - val_loss: 0.2367 - val_acc: 0.9157\nEpoch 23/35\n54000/54000 [==============================] - 56s 1ms/step - loss: 0.1543 - acc: 0.9409 - val_loss: 0.2256 - val_acc: 0.9232\nEpoch 24/35\n54000/54000 [==============================] - 56s 1ms/step - loss: 0.1507 - acc: 0.9433 - val_loss: 0.2258 - val_acc: 0.9193\nEpoch 25/35\n54000/54000 [==============================] - 57s 1ms/step - loss: 0.1440 - acc: 0.9454 - val_loss: 0.2413 - val_acc: 0.9148\nEpoch 26/35\n54000/54000 [==============================] - 55s 1ms/step - loss: 0.1397 - acc: 0.9477 - val_loss: 0.2270 - val_acc: 0.9220\nEpoch 27/35\n54000/54000 [==============================] - 56s 1ms/step - loss: 0.1335 - acc: 0.9486 - val_loss: 0.2284 - val_acc: 0.9238\nEpoch 28/35\n54000/54000 [==============================] - 56s 1ms/step - loss: 0.1329 - acc: 0.9496 - val_loss: 0.2286 - val_acc: 0.9225\nEpoch 29/35\n54000/54000 [==============================] - 56s 1ms/step - loss: 0.1280 - acc: 0.9518 - val_loss: 0.2300 - val_acc: 0.9243\nEpoch 30/35\n54000/54000 [==============================] - 57s 1ms/step - loss: 0.1251 - acc: 0.9525 - val_loss: 0.2277 - val_acc: 0.9215\nEpoch 31/35\n54000/54000 [==============================] - 60s 1ms/step - loss: 0.1192 - acc: 0.9552 - val_loss: 0.2355 - val_acc: 0.9232\nEpoch 32/35\n54000/54000 [==============================] - 61s 1ms/step - loss: 0.1167 - acc: 0.9546 - val_loss: 0.2362 - val_acc: 0.9215\nEpoch 33/35\n54000/54000 [==============================] - 60s 1ms/step - loss: 0.1140 - acc: 0.9569 - val_loss: 0.2448 - val_acc: 0.9213\nEpoch 34/35\n54000/54000 [==============================] - 60s 1ms/step - loss: 0.1137 - acc: 0.9561 - val_loss: 0.2331 - val_acc: 0.9245\nEpoch 35/35\n54000/54000 [==============================] - 59s 1ms/step - loss: 0.1092 - acc: 0.9579 - val_loss: 0.2361 - val_acc: 0.9262\n",
          "name": "stdout"
        }
      ]
    },
    {
      "metadata": {
        "_cell_guid": "1a4fe26c-94a1-45a6-bd64-9a2185f3c1bb",
        "_uuid": "e6261760c0c38ba5e31158c260b56aae2fa0ddc7",
        "trusted": true
      },
      "cell_type": "code",
      "source": "print('Test loss:', scores[0])\nprint('Test accuracy:', scores[1])",
      "execution_count": 20,
      "outputs": [
        {
          "output_type": "stream",
          "text": "Test loss: 0.219617256312\nTest accuracy: 0.9257\n",
          "name": "stdout"
        }
      ]
    }
  ],
  "metadata": {
    "kernelspec": {
      "display_name": "Python 3",
      "language": "python",
      "name": "python3"
    },
    "language_info": {
      "name": "python",
      "version": "3.6.4",
      "mimetype": "text/x-python",
      "codemirror_mode": {
        "name": "ipython",
        "version": 3
      },
      "pygments_lexer": "ipython3",
      "nbconvert_exporter": "python",
      "file_extension": ".py"
    }
  },
  "nbformat": 4,
  "nbformat_minor": 1
}